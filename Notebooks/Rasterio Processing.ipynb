{
 "cells": [
  {
   "cell_type": "code",
   "execution_count": 1,
   "id": "dramatic-married",
   "metadata": {},
   "outputs": [],
   "source": [
    "# My jupyter path on my mac is different to pip, the easy answer is to append the path to where my packages are inported\n",
    "import sys\n",
    "sys.path.append(\"/Users/calummeikle/Documents/ClimateModelling/SatelliteImagery/env/lib/python3.9/site-packages/\")\n",
    "sys.path.append('/Library/Frameworks/Python.framework/Versions/3.9/lib/python3.9/site-packages')"
   ]
  },
  {
   "cell_type": "code",
   "execution_count": 2,
   "id": "residential-samba",
   "metadata": {},
   "outputs": [],
   "source": [
    "import ee\n",
    "import rasterio\n",
    "from rasterio import mask\n",
    "import numpy as np\n",
    "import matplotlib.pyplot as plt\n",
    "import geopandas as gpd\n",
    "from GEE_data_download import DataDownload"
   ]
  },
  {
   "cell_type": "code",
   "execution_count": 3,
   "id": "nearby-acceptance",
   "metadata": {},
   "outputs": [
    {
     "data": {
      "text/html": [
       "<p>To authorize access needed by Earth Engine, open the following\n",
       "        URL in a web browser and follow the instructions:</p>\n",
       "        <p><a href=https://accounts.google.com/o/oauth2/auth?client_id=517222506229-vsmmajv00ul0bs7p89v5m89qs8eb9359.apps.googleusercontent.com&scope=https%3A%2F%2Fwww.googleapis.com%2Fauth%2Fearthengine+https%3A%2F%2Fwww.googleapis.com%2Fauth%2Fdevstorage.full_control&redirect_uri=urn%3Aietf%3Awg%3Aoauth%3A2.0%3Aoob&response_type=code&code_challenge=-VCE3BAiMKfIx1NKB-sRmAH_PlU8qtZpTpO9GZ91BOM&code_challenge_method=S256>https://accounts.google.com/o/oauth2/auth?client_id=517222506229-vsmmajv00ul0bs7p89v5m89qs8eb9359.apps.googleusercontent.com&scope=https%3A%2F%2Fwww.googleapis.com%2Fauth%2Fearthengine+https%3A%2F%2Fwww.googleapis.com%2Fauth%2Fdevstorage.full_control&redirect_uri=urn%3Aietf%3Awg%3Aoauth%3A2.0%3Aoob&response_type=code&code_challenge=-VCE3BAiMKfIx1NKB-sRmAH_PlU8qtZpTpO9GZ91BOM&code_challenge_method=S256</a></p>\n",
       "        <p>The authorization workflow will generate a code, which you\n",
       "        should paste in the box below</p>\n",
       "        "
      ],
      "text/plain": [
       "<IPython.core.display.HTML object>"
      ]
     },
     "metadata": {},
     "output_type": "display_data"
    },
    {
     "name": "stdout",
     "output_type": "stream",
     "text": [
      "Enter verification code: 4/1AY0e-g5hialT2eAqn3mho52Q7fnpX9B4p-prCaxaQ48o8uf9IstZ8Qf3fQw\n",
      "\n",
      "Successfully saved authorization token.\n"
     ]
    }
   ],
   "source": [
    "# A geojson for the Tokyo area taken from geojson.io\n",
    "geoJSON = {\n",
    "    \"type\": \"FeatureCollection\",\n",
    "    \"features\": [\n",
    "        {\n",
    "        \"type\": \"Feature\",\n",
    "        \"properties\": {},\n",
    "        \"geometry\": {\n",
    "            \"type\": \"Polygon\",\n",
    "            \"coordinates\": [\n",
    "            [\n",
    "                [\n",
    "                139.2572021484375,\n",
    "                35.420391545750746\n",
    "                ],\n",
    "                [\n",
    "                140.18554687499997,\n",
    "                35.420391545750746\n",
    "                ],\n",
    "                [\n",
    "                140.18554687499997,\n",
    "                35.98245135784044\n",
    "                ],\n",
    "                [\n",
    "                139.2572021484375,\n",
    "                35.98245135784044\n",
    "                ],\n",
    "                [\n",
    "                139.2572021484375,\n",
    "                35.420391545750746\n",
    "                ]\n",
    "            ]\n",
    "            ]\n",
    "        }\n",
    "        }\n",
    "    ]\n",
    "    }\n",
    "START_DATE = '2020-08-01'\n",
    "END_DATE = '2020-09-01'\n",
    "c = DataDownload(geoJSON, 'COPERNICUS/S2_SR', START_DATE, END_DATE)\n",
    "c.image_selection()\n",
    "img = c.img"
   ]
  },
  {
   "cell_type": "code",
   "execution_count": 4,
   "id": "prepared-mobile",
   "metadata": {},
   "outputs": [
    {
     "ename": "TypeError",
     "evalue": "toDrive() missing 1 required positional argument: 'collection'",
     "output_type": "error",
     "traceback": [
      "\u001b[0;31m---------------------------------------------------------------------------\u001b[0m",
      "\u001b[0;31mTypeError\u001b[0m                                 Traceback (most recent call last)",
      "\u001b[0;32m<ipython-input-4-80a3d18d7474>\u001b[0m in \u001b[0;36m<module>\u001b[0;34m\u001b[0m\n\u001b[0;32m----> 1\u001b[0;31m \u001b[0mc\u001b[0m\u001b[0;34m.\u001b[0m\u001b[0mexport_to_tiff\u001b[0m\u001b[0;34m(\u001b[0m\u001b[0;34m)\u001b[0m\u001b[0;34m\u001b[0m\u001b[0;34m\u001b[0m\u001b[0m\n\u001b[0m",
      "\u001b[0;32m~/Documents/ClimateModelling/SatelliteImagery/Notebooks/GEE_data_download.py\u001b[0m in \u001b[0;36mexport_to_tiff\u001b[0;34m(self)\u001b[0m\n\u001b[1;32m     49\u001b[0m         \u001b[0mself\u001b[0m\u001b[0;34m.\u001b[0m\u001b[0mimage_selection\u001b[0m\u001b[0;34m(\u001b[0m\u001b[0;34m)\u001b[0m\u001b[0;34m\u001b[0m\u001b[0;34m\u001b[0m\u001b[0m\n\u001b[1;32m     50\u001b[0m \u001b[0;34m\u001b[0m\u001b[0m\n\u001b[0;32m---> 51\u001b[0;31m         mytask = ee.batch.Export.table.toDrive(\n\u001b[0m\u001b[1;32m     52\u001b[0m             \u001b[0mimage\u001b[0m\u001b[0;34m=\u001b[0m\u001b[0mself\u001b[0m\u001b[0;34m.\u001b[0m\u001b[0mimg\u001b[0m\u001b[0;34m,\u001b[0m\u001b[0;34m\u001b[0m\u001b[0;34m\u001b[0m\u001b[0m\n\u001b[1;32m     53\u001b[0m             \u001b[0mfolder\u001b[0m\u001b[0;34m=\u001b[0m\u001b[0;34m'data_earth_engine'\u001b[0m\u001b[0;34m,\u001b[0m\u001b[0;34m\u001b[0m\u001b[0;34m\u001b[0m\u001b[0m\n",
      "\u001b[0;31mTypeError\u001b[0m: toDrive() missing 1 required positional argument: 'collection'"
     ]
    }
   ],
   "source": [
    "c.export_to_tiff()"
   ]
  },
  {
   "cell_type": "markdown",
   "id": "wanted-shore",
   "metadata": {},
   "source": [
    "Landsat images downloaded from https://earthexplorer.usgs.gov/."
   ]
  },
  {
   "cell_type": "markdown",
   "id": "irish-climb",
   "metadata": {},
   "source": [
    "But I created a GEE data download object that downloads and saves the tif files for me."
   ]
  },
  {
   "cell_type": "code",
   "execution_count": 15,
   "id": "major-stanley",
   "metadata": {},
   "outputs": [],
   "source": [
    "?ee.batch.Export.image"
   ]
  },
  {
   "cell_type": "code",
   "execution_count": null,
   "id": "logical-sacramento",
   "metadata": {},
   "outputs": [],
   "source": [
    "b1 = 'LC08_L1TP_148047_20190325_20190403_01_T1_B1.TIF' \n",
    "b2 = 'LC08_L1TP_148047_20190325_20190403_01_T1_B2.TIF' \n",
    "b3 = 'LC08_L1TP_148047_20190325_20190403_01_T1_B3.TIF' \n",
    "b4 = 'LC08_L1TP_148047_20190325_20190403_01_T1_B4.TIF' \n",
    "b5 = 'LC08_L1TP_148047_20190325_20190403_01_T1_B5.TIF' \n",
    "b6 = 'LC08_L1TP_148047_20190325_20190403_01_T1_B6.TIF' \n",
    "b7 = 'LC08_L1TP_148047_20190325_20190403_01_T1_B7.TIF' \n",
    "b8 = 'LC08_L1TP_148047_20190325_20190403_01_T1_B8.TIF' \n",
    "b9 = 'LC08_L1TP_148047_20190325_20190403_01_T1_B9.TIF' \n",
    "b10 = 'LC08_L1TP_148047_20190325_20190403_01_T1_B10.TIF' \n",
    "b11 = 'LC08_L1TP_148047_20190325_20190403_01_T1_B11.TIF'"
   ]
  },
  {
   "cell_type": "code",
   "execution_count": null,
   "id": "typical-magic",
   "metadata": {},
   "outputs": [],
   "source": [
    "file_list = [b1, b2, b3, b4, b5, b6, b7, b8, b9, b10, b11]\n",
    "stacked_path = 'stacked_raster.tif' #Path of new stacked file\n",
    "\n",
    "# Read metadata of first file\n",
    "with rasterio.open(file_list[0]) as src0:\n",
    "    meta = src0.meta\n",
    "\n",
    "# Update meta to reflect the number of layers\n",
    "meta.update(count = len(file_list))\n",
    "\n",
    "# Read each layer and write it to stack\n",
    "with rasterio.open(stacked_path, 'w', **meta) as dst:\n",
    "    for id, layer in enumerate(file_list, start=1):\n",
    "        with rasterio.open(layer) as src1:\n",
    "            dst.write_band(id, src1.read(1))\n"
   ]
  },
  {
   "cell_type": "code",
   "execution_count": null,
   "id": "burning-wallpaper",
   "metadata": {},
   "outputs": [],
   "source": [
    "raster = rasterio.open(stacked_path)"
   ]
  }
 ],
 "metadata": {
  "kernelspec": {
   "display_name": "Python 3",
   "language": "python",
   "name": "python3"
  },
  "language_info": {
   "codemirror_mode": {
    "name": "ipython",
    "version": 3
   },
   "file_extension": ".py",
   "mimetype": "text/x-python",
   "name": "python",
   "nbconvert_exporter": "python",
   "pygments_lexer": "ipython3",
   "version": "3.9.1"
  }
 },
 "nbformat": 4,
 "nbformat_minor": 5
}
