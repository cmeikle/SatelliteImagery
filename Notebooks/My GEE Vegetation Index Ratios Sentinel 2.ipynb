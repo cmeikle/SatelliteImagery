{
 "cells": [
  {
   "cell_type": "code",
   "execution_count": 242,
   "id": "disabled-zambia",
   "metadata": {},
   "outputs": [],
   "source": [
    "# My jupyter path on my mac is different to pip, the easy answer is to append the path to where my packages are inported\n",
    "import sys\n",
    "sys.path.append(\"/Users/calummeikle/Documents/ClimateModelling/SatelliteImagery/env/lib/python3.9/site-packages/\")\n",
    "sys.path.append('/Library/Frameworks/Python.framework/Versions/3.9/lib/python3.9/site-packages')"
   ]
  },
  {
   "cell_type": "code",
   "execution_count": 261,
   "id": "focused-senior",
   "metadata": {},
   "outputs": [],
   "source": [
    "import matplotlib.pyplot as plt\n",
    "import ee\n",
    "import time\n",
    "import IPython.display as disp\n",
    "import folium\n",
    "%matplotlib inline"
   ]
  },
  {
   "cell_type": "code",
   "execution_count": 244,
   "id": "statutory-stick",
   "metadata": {},
   "outputs": [
    {
     "data": {
      "text/html": [
       "<p>To authorize access needed by Earth Engine, open the following\n",
       "        URL in a web browser and follow the instructions:</p>\n",
       "        <p><a href=https://accounts.google.com/o/oauth2/auth?client_id=517222506229-vsmmajv00ul0bs7p89v5m89qs8eb9359.apps.googleusercontent.com&scope=https%3A%2F%2Fwww.googleapis.com%2Fauth%2Fearthengine+https%3A%2F%2Fwww.googleapis.com%2Fauth%2Fdevstorage.full_control&redirect_uri=urn%3Aietf%3Awg%3Aoauth%3A2.0%3Aoob&response_type=code&code_challenge=N__Cuy4ak-3-mUbW7vRi2ZJrm471LPZp7LLsg75WTGM&code_challenge_method=S256>https://accounts.google.com/o/oauth2/auth?client_id=517222506229-vsmmajv00ul0bs7p89v5m89qs8eb9359.apps.googleusercontent.com&scope=https%3A%2F%2Fwww.googleapis.com%2Fauth%2Fearthengine+https%3A%2F%2Fwww.googleapis.com%2Fauth%2Fdevstorage.full_control&redirect_uri=urn%3Aietf%3Awg%3Aoauth%3A2.0%3Aoob&response_type=code&code_challenge=N__Cuy4ak-3-mUbW7vRi2ZJrm471LPZp7LLsg75WTGM&code_challenge_method=S256</a></p>\n",
       "        <p>The authorization workflow will generate a code, which you\n",
       "        should paste in the box below</p>\n",
       "        "
      ],
      "text/plain": [
       "<IPython.core.display.HTML object>"
      ]
     },
     "metadata": {},
     "output_type": "display_data"
    },
    {
     "name": "stdout",
     "output_type": "stream",
     "text": [
      "Enter verification code: 4/1AY0e-g49s6BDioG7D4Q0aYLPwJM-VcZVtMNnlrqk9SVkR07NcgHdMu9b1Bw\n",
      "\n",
      "Successfully saved authorization token.\n"
     ]
    }
   ],
   "source": [
    "# Trigger the authentication flow.\n",
    "ee.Authenticate()\n",
    " \n",
    "# Initialize the library.\n",
    "ee.Initialize()"
   ]
  },
  {
   "cell_type": "code",
   "execution_count": 262,
   "id": "proof-military",
   "metadata": {},
   "outputs": [],
   "source": [
    "# Define a method for displaying Earth Engine image tiles to a folium map.\n",
    "def add_ee_layer(self, ee_image_object, vis_params, name, show=True, opacity=1, min_zoom=0):\n",
    "    map_id_dict = ee.Image(ee_image_object).getMapId(vis_params)\n",
    "    folium.raster_layers.TileLayer(\n",
    "        tiles=map_id_dict['tile_fetcher'].url_format,\n",
    "        attr='Map Data &copy; <a href=\"https://earthengine.google.com/\">Google Earth Engine</a>',\n",
    "        name=name,\n",
    "        show=show,\n",
    "        opacity=opacity,\n",
    "        min_zoom=min_zoom,\n",
    "        overlay=True,\n",
    "        control=True\n",
    "        ).add_to(self)\n",
    "\n",
    "# Add the Earth Engine layer method to folium.\n",
    "folium.Map.add_ee_layer = add_ee_layer"
   ]
  },
  {
   "cell_type": "code",
   "execution_count": 263,
   "id": "fiscal-earthquake",
   "metadata": {},
   "outputs": [],
   "source": [
    "# A geojson for the Tokyo area taken from geojson.io\n",
    "geoJSON = {\n",
    "  \"type\": \"FeatureCollection\",\n",
    "  \"features\": [\n",
    "    {\n",
    "      \"type\": \"Feature\",\n",
    "      \"properties\": {},\n",
    "      \"geometry\": {\n",
    "        \"type\": \"Polygon\",\n",
    "        \"coordinates\": [\n",
    "          [\n",
    "            [\n",
    "              139.2572021484375,\n",
    "              35.420391545750746\n",
    "            ],\n",
    "            [\n",
    "              140.18554687499997,\n",
    "              35.420391545750746\n",
    "            ],\n",
    "            [\n",
    "              140.18554687499997,\n",
    "              35.98245135784044\n",
    "            ],\n",
    "            [\n",
    "              139.2572021484375,\n",
    "              35.98245135784044\n",
    "            ],\n",
    "            [\n",
    "              139.2572021484375,\n",
    "              35.420391545750746\n",
    "            ]\n",
    "          ]\n",
    "        ]\n",
    "      }\n",
    "    }\n",
    "  ]\n",
    "}\n",
    "coords = geoJSON['features'][0]['geometry']['coordinates']\n",
    "AOI = ee.Geometry.Polygon(coords)\n",
    "START_DATE = '2020-08-01'\n",
    "END_DATE = '2020-09-01'"
   ]
  },
  {
   "cell_type": "code",
   "execution_count": 264,
   "id": "early-airfare",
   "metadata": {},
   "outputs": [],
   "source": [
    "# Get an image collection for our specified area and dates\n",
    "im_coll = (ee.ImageCollection('COPERNICUS/S2_SR')\n",
    "        .filterBounds(AOI)\n",
    "        .filterDate(START_DATE, END_DATE))"
   ]
  },
  {
   "cell_type": "code",
   "execution_count": 265,
   "id": "other-stretch",
   "metadata": {},
   "outputs": [
    {
     "data": {
      "text/plain": [
       "['08/02/20',\n",
       " '08/05/20',\n",
       " '08/05/20',\n",
       " '08/07/20',\n",
       " '08/10/20',\n",
       " '08/10/20',\n",
       " '08/12/20',\n",
       " '08/15/20',\n",
       " '08/15/20',\n",
       " '08/17/20',\n",
       " '08/20/20',\n",
       " '08/20/20',\n",
       " '08/22/20',\n",
       " '08/25/20',\n",
       " '08/25/20',\n",
       " '08/27/20',\n",
       " '08/30/20',\n",
       " '08/30/20']"
      ]
     },
     "execution_count": 265,
     "metadata": {},
     "output_type": "execute_result"
    }
   ],
   "source": [
    "# All the images taken for this geographic region in the required timeframe\n",
    "acq_times = im_coll.aggregate_array('system:time_start').getInfo()\n",
    "[time.strftime('%x', time.gmtime(acq_time/1000)) for acq_time in acq_times]\n",
    "# What we could do here is choose a good image that has all the area we need not just a corner"
   ]
  },
  {
   "cell_type": "code",
   "execution_count": 269,
   "id": "painted-ebony",
   "metadata": {},
   "outputs": [
    {
     "data": {
      "text/plain": [
       "18"
      ]
     },
     "execution_count": 269,
     "metadata": {},
     "output_type": "execute_result"
    }
   ],
   "source": [
    "im_coll.size().getInfo()"
   ]
  },
  {
   "cell_type": "code",
   "execution_count": 270,
   "id": "desperate-sauce",
   "metadata": {},
   "outputs": [],
   "source": [
    "# Creating a list of the collections by dates\n",
    "im_list = im_coll.toList(im_coll.size())"
   ]
  },
  {
   "cell_type": "markdown",
   "id": "appropriate-prophet",
   "metadata": {},
   "source": [
    "Using the formulas on this website: https://giscrack.com/list-of-spectral-indices-for-sentinel-and-landsat/ I am going to try and plot different ratios onto a folium map"
   ]
  },
  {
   "cell_type": "code",
   "execution_count": 292,
   "id": "flexible-found",
   "metadata": {},
   "outputs": [],
   "source": [
    "def ndvi(img):\n",
    "    \"\"\"\n",
    "    High NDVI values correspond to areas that reflect more in the near-infrared spectrum. \n",
    "    Higher reflectance in the near-infrared correspond to denser and healthier vegetation\n",
    "    \n",
    "    Formula of NDVI = (NIR – Red) / (NIR + Red)\n",
    "    NDVI (Sentinel 2) = (B8 – B4) / (B8 + B4)\n",
    "    \"\"\"\n",
    "    return img.normalizedDifference(['B8', 'B4'])\n",
    "\n",
    "def gndvi(img):\n",
    "    \"\"\"\n",
    "    Green Normalized Difference Vegetation Index (GNDVI) is modified version of NDVI \n",
    "    to be more sensitive to the variation of chlorophyll content in the crop.\n",
    "    \n",
    "    Formula of GNDVI = (NIR-GREEN) /(NIR+GREEN)\n",
    "    GNDVI (Sentinel 2) = (B8 – B3) / (B8 + B3)\n",
    "    \"\"\"\n",
    "    return img.normalizedDifference(['B8', 'B3'])\n",
    "\n",
    "def evi(img):\n",
    "    \"\"\"\n",
    "    EVI is similar to Normalized Difference Vegetation Index (NDVI) and can be used to quantify vegetation greenness. \n",
    "    However, EVI corrects for some atmospheric conditions and canopy background noise \n",
    "    and is more sensitive in areas with dense vegetation.\n",
    "    \n",
    "    Formula of EVI = G * ((NIR – R) / (NIR + C1 * R – C2 * B + L))\n",
    "    EVI (Sentinel 2) = 2.5 * ((B8 – B4) / (B8 + 6 * B4 – 7.5 * B2 + 1))\n",
    "    \"\"\"\n",
    "    param = ee.Image(2.5)\n",
    "    canopy_adjustment = ee.Image(1)\n",
    "    c1 = ee.Image(6)\n",
    "    c2 = ee.Image(7.5)\n",
    "    red_img = img.select('B4')\n",
    "    green_img = img.select('B3')\n",
    "    blue_img = img.select('B2')\n",
    "    nir_img = img.select('B8')\n",
    "    numerator = param.multiply((nir_img.subtract(red_img)))\n",
    "    red_adj = c1.multiply(red_img)\n",
    "    blue_adj = c2.multiply(blue_img)\n",
    "    denominator = nir_img.add(red_adj).subtract(blue_adj).add(canopy_adjustment)\n",
    "    return numerator.divide(denominator)\n",
    "\n",
    "\n",
    "ndvi_img = ndvi(ee.Image(im_list.get(1)).clip(AOI))\n",
    "gndvi_img = gndvi(ee.Image(im_list.get(1)).clip(AOI))\n",
    "evi_img = evi(ee.Image(im_list.get(1)).clip(AOI))"
   ]
  },
  {
   "cell_type": "code",
   "execution_count": 293,
   "id": "spatial-blackberry",
   "metadata": {},
   "outputs": [
    {
     "data": {
      "text/plain": [
       "<ee.image.Image at 0x118378c70>"
      ]
     },
     "execution_count": 293,
     "metadata": {},
     "output_type": "execute_result"
    }
   ],
   "source": [
    "evi_img"
   ]
  },
  {
   "cell_type": "code",
   "execution_count": 294,
   "id": "korean-slave",
   "metadata": {},
   "outputs": [],
   "source": [
    "# url = red_img.getThumbURL({'min': 0, 'max': 2500})\n",
    "# disp.Image(url=url, width=400)"
   ]
  },
  {
   "cell_type": "code",
   "execution_count": 295,
   "id": "finnish-relaxation",
   "metadata": {
    "scrolled": true
   },
   "outputs": [
    {
     "data": {
      "text/html": [
       "<div style=\"width:100%;\"><div style=\"position:relative;width:100%;height:0;padding-bottom:60%;\"><span style=\"color:#565656\">Make this Notebook Trusted to load map: File -> Trust Notebook</span><iframe src=\"about:blank\" style=\"position:absolute;width:100%;height:100%;left:0;top:0;border:none !important;\" data-html=%3C%21DOCTYPE%20html%3E%0A%3Chead%3E%20%20%20%20%0A%20%20%20%20%3Cmeta%20http-equiv%3D%22content-type%22%20content%3D%22text/html%3B%20charset%3DUTF-8%22%20/%3E%0A%20%20%20%20%0A%20%20%20%20%20%20%20%20%3Cscript%3E%0A%20%20%20%20%20%20%20%20%20%20%20%20L_NO_TOUCH%20%3D%20false%3B%0A%20%20%20%20%20%20%20%20%20%20%20%20L_DISABLE_3D%20%3D%20false%3B%0A%20%20%20%20%20%20%20%20%3C/script%3E%0A%20%20%20%20%0A%20%20%20%20%3Cstyle%3Ehtml%2C%20body%20%7Bwidth%3A%20100%25%3Bheight%3A%20100%25%3Bmargin%3A%200%3Bpadding%3A%200%3B%7D%3C/style%3E%0A%20%20%20%20%3Cstyle%3E%23map%20%7Bposition%3Aabsolute%3Btop%3A0%3Bbottom%3A0%3Bright%3A0%3Bleft%3A0%3B%7D%3C/style%3E%0A%20%20%20%20%3Cscript%20src%3D%22https%3A//cdn.jsdelivr.net/npm/leaflet%401.6.0/dist/leaflet.js%22%3E%3C/script%3E%0A%20%20%20%20%3Cscript%20src%3D%22https%3A//code.jquery.com/jquery-1.12.4.min.js%22%3E%3C/script%3E%0A%20%20%20%20%3Cscript%20src%3D%22https%3A//maxcdn.bootstrapcdn.com/bootstrap/3.2.0/js/bootstrap.min.js%22%3E%3C/script%3E%0A%20%20%20%20%3Cscript%20src%3D%22https%3A//cdnjs.cloudflare.com/ajax/libs/Leaflet.awesome-markers/2.0.2/leaflet.awesome-markers.js%22%3E%3C/script%3E%0A%20%20%20%20%3Clink%20rel%3D%22stylesheet%22%20href%3D%22https%3A//cdn.jsdelivr.net/npm/leaflet%401.6.0/dist/leaflet.css%22/%3E%0A%20%20%20%20%3Clink%20rel%3D%22stylesheet%22%20href%3D%22https%3A//maxcdn.bootstrapcdn.com/bootstrap/3.2.0/css/bootstrap.min.css%22/%3E%0A%20%20%20%20%3Clink%20rel%3D%22stylesheet%22%20href%3D%22https%3A//maxcdn.bootstrapcdn.com/bootstrap/3.2.0/css/bootstrap-theme.min.css%22/%3E%0A%20%20%20%20%3Clink%20rel%3D%22stylesheet%22%20href%3D%22https%3A//maxcdn.bootstrapcdn.com/font-awesome/4.6.3/css/font-awesome.min.css%22/%3E%0A%20%20%20%20%3Clink%20rel%3D%22stylesheet%22%20href%3D%22https%3A//cdnjs.cloudflare.com/ajax/libs/Leaflet.awesome-markers/2.0.2/leaflet.awesome-markers.css%22/%3E%0A%20%20%20%20%3Clink%20rel%3D%22stylesheet%22%20href%3D%22https%3A//cdn.jsdelivr.net/gh/python-visualization/folium/folium/templates/leaflet.awesome.rotate.min.css%22/%3E%0A%20%20%20%20%0A%20%20%20%20%20%20%20%20%20%20%20%20%3Cmeta%20name%3D%22viewport%22%20content%3D%22width%3Ddevice-width%2C%0A%20%20%20%20%20%20%20%20%20%20%20%20%20%20%20%20initial-scale%3D1.0%2C%20maximum-scale%3D1.0%2C%20user-scalable%3Dno%22%20/%3E%0A%20%20%20%20%20%20%20%20%20%20%20%20%3Cstyle%3E%0A%20%20%20%20%20%20%20%20%20%20%20%20%20%20%20%20%23map_1c83bd7759804baab2ef3c62cfb307f8%20%7B%0A%20%20%20%20%20%20%20%20%20%20%20%20%20%20%20%20%20%20%20%20position%3A%20relative%3B%0A%20%20%20%20%20%20%20%20%20%20%20%20%20%20%20%20%20%20%20%20width%3A%20100.0%25%3B%0A%20%20%20%20%20%20%20%20%20%20%20%20%20%20%20%20%20%20%20%20height%3A%20100.0%25%3B%0A%20%20%20%20%20%20%20%20%20%20%20%20%20%20%20%20%20%20%20%20left%3A%200.0%25%3B%0A%20%20%20%20%20%20%20%20%20%20%20%20%20%20%20%20%20%20%20%20top%3A%200.0%25%3B%0A%20%20%20%20%20%20%20%20%20%20%20%20%20%20%20%20%7D%0A%20%20%20%20%20%20%20%20%20%20%20%20%3C/style%3E%0A%20%20%20%20%20%20%20%20%0A%3C/head%3E%0A%3Cbody%3E%20%20%20%20%0A%20%20%20%20%0A%20%20%20%20%20%20%20%20%20%20%20%20%3Cdiv%20class%3D%22folium-map%22%20id%3D%22map_1c83bd7759804baab2ef3c62cfb307f8%22%20%3E%3C/div%3E%0A%20%20%20%20%20%20%20%20%0A%3C/body%3E%0A%3Cscript%3E%20%20%20%20%0A%20%20%20%20%0A%20%20%20%20%20%20%20%20%20%20%20%20var%20map_1c83bd7759804baab2ef3c62cfb307f8%20%3D%20L.map%28%0A%20%20%20%20%20%20%20%20%20%20%20%20%20%20%20%20%22map_1c83bd7759804baab2ef3c62cfb307f8%22%2C%0A%20%20%20%20%20%20%20%20%20%20%20%20%20%20%20%20%7B%0A%20%20%20%20%20%20%20%20%20%20%20%20%20%20%20%20%20%20%20%20center%3A%20%5B35.70198225636477%2C%20139.7213745117186%5D%2C%0A%20%20%20%20%20%20%20%20%20%20%20%20%20%20%20%20%20%20%20%20crs%3A%20L.CRS.EPSG3857%2C%0A%20%20%20%20%20%20%20%20%20%20%20%20%20%20%20%20%20%20%20%20zoom%3A%2010%2C%0A%20%20%20%20%20%20%20%20%20%20%20%20%20%20%20%20%20%20%20%20zoomControl%3A%20true%2C%0A%20%20%20%20%20%20%20%20%20%20%20%20%20%20%20%20%20%20%20%20preferCanvas%3A%20false%2C%0A%20%20%20%20%20%20%20%20%20%20%20%20%20%20%20%20%7D%0A%20%20%20%20%20%20%20%20%20%20%20%20%29%3B%0A%0A%20%20%20%20%20%20%20%20%20%20%20%20%0A%0A%20%20%20%20%20%20%20%20%0A%20%20%20%20%0A%20%20%20%20%20%20%20%20%20%20%20%20var%20tile_layer_eeb4e6541e9742dcb06d523617d69475%20%3D%20L.tileLayer%28%0A%20%20%20%20%20%20%20%20%20%20%20%20%20%20%20%20%22https%3A//%7Bs%7D.tile.openstreetmap.org/%7Bz%7D/%7Bx%7D/%7By%7D.png%22%2C%0A%20%20%20%20%20%20%20%20%20%20%20%20%20%20%20%20%7B%22attribution%22%3A%20%22Data%20by%20%5Cu0026copy%3B%20%5Cu003ca%20href%3D%5C%22http%3A//openstreetmap.org%5C%22%5Cu003eOpenStreetMap%5Cu003c/a%5Cu003e%2C%20under%20%5Cu003ca%20href%3D%5C%22http%3A//www.openstreetmap.org/copyright%5C%22%5Cu003eODbL%5Cu003c/a%5Cu003e.%22%2C%20%22detectRetina%22%3A%20false%2C%20%22maxNativeZoom%22%3A%2018%2C%20%22maxZoom%22%3A%2018%2C%20%22minZoom%22%3A%200%2C%20%22noWrap%22%3A%20false%2C%20%22opacity%22%3A%201%2C%20%22subdomains%22%3A%20%22abc%22%2C%20%22tms%22%3A%20false%7D%0A%20%20%20%20%20%20%20%20%20%20%20%20%29.addTo%28map_1c83bd7759804baab2ef3c62cfb307f8%29%3B%0A%20%20%20%20%20%20%20%20%0A%20%20%20%20%0A%20%20%20%20%20%20%20%20%20%20%20%20var%20tile_layer_23b61e67b5874394bc0fdfd3af1f6a50%20%3D%20L.tileLayer%28%0A%20%20%20%20%20%20%20%20%20%20%20%20%20%20%20%20%22https%3A//earthengine.googleapis.com/v1alpha/projects/earthengine-legacy/maps/f7f7da4985d46050199b3779270bc93b-49b8a1217c1da848b8d183b99247b06c/tiles/%7Bz%7D/%7Bx%7D/%7By%7D%22%2C%0A%20%20%20%20%20%20%20%20%20%20%20%20%20%20%20%20%7B%22attribution%22%3A%20%22Map%20Data%20%5Cu0026copy%3B%20%5Cu003ca%20href%3D%5C%22https%3A//earthengine.google.com/%5C%22%5Cu003eGoogle%20Earth%20Engine%5Cu003c/a%5Cu003e%22%2C%20%22detectRetina%22%3A%20false%2C%20%22maxNativeZoom%22%3A%2018%2C%20%22maxZoom%22%3A%2018%2C%20%22minZoom%22%3A%200%2C%20%22noWrap%22%3A%20false%2C%20%22opacity%22%3A%201%2C%20%22subdomains%22%3A%20%22abc%22%2C%20%22tms%22%3A%20false%7D%0A%20%20%20%20%20%20%20%20%20%20%20%20%29.addTo%28map_1c83bd7759804baab2ef3c62cfb307f8%29%3B%0A%20%20%20%20%20%20%20%20%0A%20%20%20%20%0A%20%20%20%20%20%20%20%20%20%20%20%20var%20tile_layer_9c65695115f5446eb4159f810265c88e%20%3D%20L.tileLayer%28%0A%20%20%20%20%20%20%20%20%20%20%20%20%20%20%20%20%22https%3A//earthengine.googleapis.com/v1alpha/projects/earthengine-legacy/maps/f9b4dc480d77e845063d51f15c19c471-501606ac3c50fa5eec31ad7a79b3600c/tiles/%7Bz%7D/%7Bx%7D/%7By%7D%22%2C%0A%20%20%20%20%20%20%20%20%20%20%20%20%20%20%20%20%7B%22attribution%22%3A%20%22Map%20Data%20%5Cu0026copy%3B%20%5Cu003ca%20href%3D%5C%22https%3A//earthengine.google.com/%5C%22%5Cu003eGoogle%20Earth%20Engine%5Cu003c/a%5Cu003e%22%2C%20%22detectRetina%22%3A%20false%2C%20%22maxNativeZoom%22%3A%2018%2C%20%22maxZoom%22%3A%2018%2C%20%22minZoom%22%3A%200%2C%20%22noWrap%22%3A%20false%2C%20%22opacity%22%3A%201%2C%20%22subdomains%22%3A%20%22abc%22%2C%20%22tms%22%3A%20false%7D%0A%20%20%20%20%20%20%20%20%20%20%20%20%29.addTo%28map_1c83bd7759804baab2ef3c62cfb307f8%29%3B%0A%20%20%20%20%20%20%20%20%0A%20%20%20%20%0A%20%20%20%20%20%20%20%20%20%20%20%20var%20tile_layer_517fdb5dd3364eeda3784a6de7120e95%20%3D%20L.tileLayer%28%0A%20%20%20%20%20%20%20%20%20%20%20%20%20%20%20%20%22https%3A//earthengine.googleapis.com/v1alpha/projects/earthengine-legacy/maps/b4957d6d477ce451490dcc0161dce2bd-2c45d8e90be5f69549313a510f667347/tiles/%7Bz%7D/%7Bx%7D/%7By%7D%22%2C%0A%20%20%20%20%20%20%20%20%20%20%20%20%20%20%20%20%7B%22attribution%22%3A%20%22Map%20Data%20%5Cu0026copy%3B%20%5Cu003ca%20href%3D%5C%22https%3A//earthengine.google.com/%5C%22%5Cu003eGoogle%20Earth%20Engine%5Cu003c/a%5Cu003e%22%2C%20%22detectRetina%22%3A%20false%2C%20%22maxNativeZoom%22%3A%2018%2C%20%22maxZoom%22%3A%2018%2C%20%22minZoom%22%3A%200%2C%20%22noWrap%22%3A%20false%2C%20%22opacity%22%3A%201%2C%20%22subdomains%22%3A%20%22abc%22%2C%20%22tms%22%3A%20false%7D%0A%20%20%20%20%20%20%20%20%20%20%20%20%29.addTo%28map_1c83bd7759804baab2ef3c62cfb307f8%29%3B%0A%20%20%20%20%20%20%20%20%0A%20%20%20%20%0A%20%20%20%20%20%20%20%20%20%20%20%20var%20tile_layer_e5e00c7d9c4f4a09b4b96f55256e195e%20%3D%20L.tileLayer%28%0A%20%20%20%20%20%20%20%20%20%20%20%20%20%20%20%20%22https%3A//earthengine.googleapis.com/v1alpha/projects/earthengine-legacy/maps/16c76e1fe2bb77c870495241eb18e36e-ce932c4e2024cdeb80c5043eeaeaf859/tiles/%7Bz%7D/%7Bx%7D/%7By%7D%22%2C%0A%20%20%20%20%20%20%20%20%20%20%20%20%20%20%20%20%7B%22attribution%22%3A%20%22Map%20Data%20%5Cu0026copy%3B%20%5Cu003ca%20href%3D%5C%22https%3A//earthengine.google.com/%5C%22%5Cu003eGoogle%20Earth%20Engine%5Cu003c/a%5Cu003e%22%2C%20%22detectRetina%22%3A%20false%2C%20%22maxNativeZoom%22%3A%2018%2C%20%22maxZoom%22%3A%2018%2C%20%22minZoom%22%3A%200%2C%20%22noWrap%22%3A%20false%2C%20%22opacity%22%3A%201%2C%20%22subdomains%22%3A%20%22abc%22%2C%20%22tms%22%3A%20false%7D%0A%20%20%20%20%20%20%20%20%20%20%20%20%29.addTo%28map_1c83bd7759804baab2ef3c62cfb307f8%29%3B%0A%20%20%20%20%20%20%20%20%0A%20%20%20%20%0A%20%20%20%20%20%20%20%20%20%20%20%20var%20tile_layer_c0e76ad328284fd48346f83b78978188%20%3D%20L.tileLayer%28%0A%20%20%20%20%20%20%20%20%20%20%20%20%20%20%20%20%22https%3A//earthengine.googleapis.com/v1alpha/projects/earthengine-legacy/maps/29855872b6fa4097f2d2080c8c11ab4c-23247573c168ca2f55dc1ed308cca30a/tiles/%7Bz%7D/%7Bx%7D/%7By%7D%22%2C%0A%20%20%20%20%20%20%20%20%20%20%20%20%20%20%20%20%7B%22attribution%22%3A%20%22Map%20Data%20%5Cu0026copy%3B%20%5Cu003ca%20href%3D%5C%22https%3A//earthengine.google.com/%5C%22%5Cu003eGoogle%20Earth%20Engine%5Cu003c/a%5Cu003e%22%2C%20%22detectRetina%22%3A%20false%2C%20%22maxNativeZoom%22%3A%2018%2C%20%22maxZoom%22%3A%2018%2C%20%22minZoom%22%3A%200%2C%20%22noWrap%22%3A%20false%2C%20%22opacity%22%3A%201%2C%20%22subdomains%22%3A%20%22abc%22%2C%20%22tms%22%3A%20false%7D%0A%20%20%20%20%20%20%20%20%20%20%20%20%29.addTo%28map_1c83bd7759804baab2ef3c62cfb307f8%29%3B%0A%20%20%20%20%20%20%20%20%0A%20%20%20%20%0A%20%20%20%20%20%20%20%20%20%20%20%20var%20layer_control_af10d491b902460197daea73eaa30d2b%20%3D%20%7B%0A%20%20%20%20%20%20%20%20%20%20%20%20%20%20%20%20base_layers%20%3A%20%7B%0A%20%20%20%20%20%20%20%20%20%20%20%20%20%20%20%20%20%20%20%20%22openstreetmap%22%20%3A%20tile_layer_eeb4e6541e9742dcb06d523617d69475%2C%0A%20%20%20%20%20%20%20%20%20%20%20%20%20%20%20%20%7D%2C%0A%20%20%20%20%20%20%20%20%20%20%20%20%20%20%20%20overlays%20%3A%20%20%7B%0A%20%20%20%20%20%20%20%20%20%20%20%20%20%20%20%20%20%20%20%20%22Red%22%20%3A%20tile_layer_23b61e67b5874394bc0fdfd3af1f6a50%2C%0A%20%20%20%20%20%20%20%20%20%20%20%20%20%20%20%20%20%20%20%20%22NIR%22%20%3A%20tile_layer_9c65695115f5446eb4159f810265c88e%2C%0A%20%20%20%20%20%20%20%20%20%20%20%20%20%20%20%20%20%20%20%20%22NDVI%22%20%3A%20tile_layer_517fdb5dd3364eeda3784a6de7120e95%2C%0A%20%20%20%20%20%20%20%20%20%20%20%20%20%20%20%20%20%20%20%20%22Green%20NDVI%22%20%3A%20tile_layer_e5e00c7d9c4f4a09b4b96f55256e195e%2C%0A%20%20%20%20%20%20%20%20%20%20%20%20%20%20%20%20%20%20%20%20%22EVI%22%20%3A%20tile_layer_c0e76ad328284fd48346f83b78978188%2C%0A%20%20%20%20%20%20%20%20%20%20%20%20%20%20%20%20%7D%2C%0A%20%20%20%20%20%20%20%20%20%20%20%20%7D%3B%0A%20%20%20%20%20%20%20%20%20%20%20%20L.control.layers%28%0A%20%20%20%20%20%20%20%20%20%20%20%20%20%20%20%20layer_control_af10d491b902460197daea73eaa30d2b.base_layers%2C%0A%20%20%20%20%20%20%20%20%20%20%20%20%20%20%20%20layer_control_af10d491b902460197daea73eaa30d2b.overlays%2C%0A%20%20%20%20%20%20%20%20%20%20%20%20%20%20%20%20%7B%22autoZIndex%22%3A%20true%2C%20%22collapsed%22%3A%20true%2C%20%22position%22%3A%20%22topright%22%7D%0A%20%20%20%20%20%20%20%20%20%20%20%20%29.addTo%28map_1c83bd7759804baab2ef3c62cfb307f8%29%3B%0A%20%20%20%20%20%20%20%20%0A%3C/script%3E onload=\"this.contentDocument.open();this.contentDocument.write(    decodeURIComponent(this.getAttribute('data-html')));this.contentDocument.close();\" allowfullscreen webkitallowfullscreen mozallowfullscreen></iframe></div></div>"
      ],
      "text/plain": [
       "<folium.folium.Map at 0x118378e50>"
      ]
     },
     "metadata": {},
     "output_type": "display_data"
    }
   ],
   "source": [
    "center = AOI.centroid(10).coordinates().reverse().getInfo()\n",
    "m = folium.Map(location=center, zoom_start=10)\n",
    "\n",
    "# Add layers to the map\n",
    "m.add_ee_layer(red_img, {'min': 0, 'max': 2500}, 'Red')\n",
    "m.add_ee_layer(nir_img, {'min': 0, 'max': 2500}, 'NIR')\n",
    "m.add_ee_layer(ndvi_img, {'min': 0, 'max': 1, 'palette': ['grey','green']}, 'NDVI') \n",
    "# the vis_param's make a differnece on the percentage of iridiance counts as vegetation so they are quite important\n",
    "m.add_ee_layer(gndvi_img, {'min': 0, 'max': 1, 'palette': ['grey','green']}, 'Green NDVI')\n",
    "m.add_ee_layer(evi_img, {'min': 0, 'max': 1, 'palette': ['grey','green']}, 'EVI')\n",
    "# Add a layer control panel to the map.\n",
    "m.add_child(folium.LayerControl())\n",
    "\n",
    "# Display the map.\n",
    "display(m)"
   ]
  },
  {
   "cell_type": "code",
   "execution_count": 274,
   "id": "sacred-garden",
   "metadata": {},
   "outputs": [],
   "source": [
    "# TODO: use the cloud mask method on these images, because light areas can be clouds"
   ]
  },
  {
   "cell_type": "markdown",
   "id": "figured-printer",
   "metadata": {},
   "source": [
    "Now can I do something similar on an area of Senegal that has seen development of the Great Green Wall to look at the Vegetation Index and possibly Soil Index"
   ]
  },
  {
   "cell_type": "markdown",
   "id": "retained-launch",
   "metadata": {},
   "source": [
    "It is hard to find any information of where the each tree is being planted. This website lists the areas of interest\n",
    "https://gef6.globelegislators.org/senegal/the-great-green-wall-experience-in-senegal, I am going to focus on the matam region."
   ]
  },
  {
   "cell_type": "code",
   "execution_count": 175,
   "id": "ruled-thunder",
   "metadata": {},
   "outputs": [],
   "source": [
    "geoJSON = {\n",
    "  \"type\": \"FeatureCollection\",\n",
    "  \"features\": [\n",
    "    {\n",
    "      \"type\": \"Feature\",\n",
    "      \"properties\": {},\n",
    "      \"geometry\": {\n",
    "        \"type\": \"Polygon\",\n",
    "        \"coordinates\": [\n",
    "          [\n",
    "            [\n",
    "              -15.868377685546873,\n",
    "              15.884734325453612\n",
    "            ],\n",
    "            [\n",
    "              -15.582733154296875,\n",
    "              15.884734325453612\n",
    "            ],\n",
    "            [\n",
    "              -15.582733154296875,\n",
    "              16.155325758629743\n",
    "            ],\n",
    "            [\n",
    "              -15.868377685546873,\n",
    "              16.155325758629743\n",
    "            ],\n",
    "            [\n",
    "              -15.868377685546873,\n",
    "              15.884734325453612\n",
    "            ]\n",
    "          ]\n",
    "        ]\n",
    "      }\n",
    "    }\n",
    "  ]\n",
    "}"
   ]
  },
  {
   "cell_type": "code",
   "execution_count": 176,
   "id": "figured-retrieval",
   "metadata": {},
   "outputs": [],
   "source": [
    "coords = geoJSON['features'][0]['geometry']['coordinates']\n",
    "AOI = ee.Geometry.Polygon(coords)\n",
    "ORIGINAL_START_DATE = '2018-12-01' \n",
    "ORIGINAL_END_DATE = '2018-12-31'"
   ]
  },
  {
   "cell_type": "code",
   "execution_count": 177,
   "id": "younger-veteran",
   "metadata": {},
   "outputs": [],
   "source": [
    "# Get an image collection for our specified area and dates\n",
    "im_coll = (ee.ImageCollection('COPERNICUS/S2_SR')\n",
    "        .filterBounds(AOI)\n",
    "        .filterDate(ORIGINAL_START_DATE, ORIGINAL_END_DATE))"
   ]
  },
  {
   "cell_type": "code",
   "execution_count": 178,
   "id": "minus-terror",
   "metadata": {},
   "outputs": [
    {
     "data": {
      "text/plain": [
       "['12/14/18',\n",
       " '12/14/18',\n",
       " '12/16/18',\n",
       " '12/19/18',\n",
       " '12/19/18',\n",
       " '12/21/18',\n",
       " '12/21/18',\n",
       " '12/24/18',\n",
       " '12/24/18',\n",
       " '12/26/18',\n",
       " '12/29/18',\n",
       " '12/29/18']"
      ]
     },
     "execution_count": 178,
     "metadata": {},
     "output_type": "execute_result"
    }
   ],
   "source": [
    "# All the images taken for this geographic region in the required timeframe\n",
    "acq_times = im_coll.aggregate_array('system:time_start').getInfo()\n",
    "[time.strftime('%x', time.gmtime(acq_time/1000)) for acq_time in acq_times]\n",
    "# What we could do here is choose a good image that has all the area we need not just a corner"
   ]
  },
  {
   "cell_type": "code",
   "execution_count": 204,
   "id": "mediterranean-letters",
   "metadata": {},
   "outputs": [],
   "source": [
    "# Creating a list of the collections by dates\n",
    "im_list = im_coll.toList(im_coll.size())\n",
    "# Getting the nth date in the list and then selecting the specific sentinel epectral band\n",
    "blue_img = ee.Image(im_list.get(-1)).select('B2').clip(AOI)\n",
    "green_img = ee.Image(im_list.get(-1)).select('B3').clip(AOI)\n",
    "red_img = ee.Image(im_list.get(-1)).select('B4').clip(AOI)\n",
    "nir_img = ee.Image(im_list.get(-1)).select('B8').clip(AOI)"
   ]
  },
  {
   "cell_type": "code",
   "execution_count": 234,
   "id": "frank-composer",
   "metadata": {},
   "outputs": [],
   "source": [
    "# Creating a dataframe of the image data\n",
    "import pandas as pd\n",
    "df = pd.DataFrame(im_list.getInfo())\n",
    "acq_times = im_coll.aggregate_array('system:time_start').getInfo()\n",
    "df[\"date\"] = [time.strftime('%x', time.gmtime(acq_time/1000)) for acq_time in acq_times]"
   ]
  },
  {
   "cell_type": "code",
   "execution_count": 235,
   "id": "reverse-compression",
   "metadata": {},
   "outputs": [
    {
     "data": {
      "text/html": [
       "<div>\n",
       "<style scoped>\n",
       "    .dataframe tbody tr th:only-of-type {\n",
       "        vertical-align: middle;\n",
       "    }\n",
       "\n",
       "    .dataframe tbody tr th {\n",
       "        vertical-align: top;\n",
       "    }\n",
       "\n",
       "    .dataframe thead th {\n",
       "        text-align: right;\n",
       "    }\n",
       "</style>\n",
       "<table border=\"1\" class=\"dataframe\">\n",
       "  <thead>\n",
       "    <tr style=\"text-align: right;\">\n",
       "      <th></th>\n",
       "      <th>type</th>\n",
       "      <th>bands</th>\n",
       "      <th>id</th>\n",
       "      <th>version</th>\n",
       "      <th>properties</th>\n",
       "    </tr>\n",
       "    <tr>\n",
       "      <th>date</th>\n",
       "      <th></th>\n",
       "      <th></th>\n",
       "      <th></th>\n",
       "      <th></th>\n",
       "      <th></th>\n",
       "    </tr>\n",
       "  </thead>\n",
       "  <tbody>\n",
       "    <tr>\n",
       "      <th>12/14/18</th>\n",
       "      <td>Image</td>\n",
       "      <td>[{'id': 'B1', 'data_type': {'type': 'PixelType...</td>\n",
       "      <td>COPERNICUS/S2_SR/20181214T113459_20181214T1140...</td>\n",
       "      <td>1557088287937734</td>\n",
       "      <td>{'DATATAKE_IDENTIFIER': 'GS2B_20181214T113459_...</td>\n",
       "    </tr>\n",
       "    <tr>\n",
       "      <th>12/14/18</th>\n",
       "      <td>Image</td>\n",
       "      <td>[{'id': 'B1', 'data_type': {'type': 'PixelType...</td>\n",
       "      <td>COPERNICUS/S2_SR/20181214T113459_20181214T1140...</td>\n",
       "      <td>1557016256881882</td>\n",
       "      <td>{'DATATAKE_IDENTIFIER': 'GS2B_20181214T113459_...</td>\n",
       "    </tr>\n",
       "    <tr>\n",
       "      <th>12/16/18</th>\n",
       "      <td>Image</td>\n",
       "      <td>[{'id': 'B1', 'data_type': {'type': 'PixelType...</td>\n",
       "      <td>COPERNICUS/S2_SR/20181216T112451_20181216T1131...</td>\n",
       "      <td>1557018629019192</td>\n",
       "      <td>{'DATATAKE_IDENTIFIER': 'GS2A_20181216T112451_...</td>\n",
       "    </tr>\n",
       "    <tr>\n",
       "      <th>12/19/18</th>\n",
       "      <td>Image</td>\n",
       "      <td>[{'id': 'B1', 'data_type': {'type': 'PixelType...</td>\n",
       "      <td>COPERNICUS/S2_SR/20181219T113501_20181219T1140...</td>\n",
       "      <td>1563389903141111</td>\n",
       "      <td>{'DATATAKE_IDENTIFIER': 'GS2A_20181219T113501_...</td>\n",
       "    </tr>\n",
       "    <tr>\n",
       "      <th>12/19/18</th>\n",
       "      <td>Image</td>\n",
       "      <td>[{'id': 'B1', 'data_type': {'type': 'PixelType...</td>\n",
       "      <td>COPERNICUS/S2_SR/20181219T113501_20181219T1140...</td>\n",
       "      <td>1563565635037021</td>\n",
       "      <td>{'DATATAKE_IDENTIFIER': 'GS2A_20181219T113501_...</td>\n",
       "    </tr>\n",
       "  </tbody>\n",
       "</table>\n",
       "</div>"
      ],
      "text/plain": [
       "           type                                              bands  \\\n",
       "date                                                                 \n",
       "12/14/18  Image  [{'id': 'B1', 'data_type': {'type': 'PixelType...   \n",
       "12/14/18  Image  [{'id': 'B1', 'data_type': {'type': 'PixelType...   \n",
       "12/16/18  Image  [{'id': 'B1', 'data_type': {'type': 'PixelType...   \n",
       "12/19/18  Image  [{'id': 'B1', 'data_type': {'type': 'PixelType...   \n",
       "12/19/18  Image  [{'id': 'B1', 'data_type': {'type': 'PixelType...   \n",
       "\n",
       "                                                         id           version  \\\n",
       "date                                                                            \n",
       "12/14/18  COPERNICUS/S2_SR/20181214T113459_20181214T1140...  1557088287937734   \n",
       "12/14/18  COPERNICUS/S2_SR/20181214T113459_20181214T1140...  1557016256881882   \n",
       "12/16/18  COPERNICUS/S2_SR/20181216T112451_20181216T1131...  1557018629019192   \n",
       "12/19/18  COPERNICUS/S2_SR/20181219T113501_20181219T1140...  1563389903141111   \n",
       "12/19/18  COPERNICUS/S2_SR/20181219T113501_20181219T1140...  1563565635037021   \n",
       "\n",
       "                                                 properties  \n",
       "date                                                         \n",
       "12/14/18  {'DATATAKE_IDENTIFIER': 'GS2B_20181214T113459_...  \n",
       "12/14/18  {'DATATAKE_IDENTIFIER': 'GS2B_20181214T113459_...  \n",
       "12/16/18  {'DATATAKE_IDENTIFIER': 'GS2A_20181216T112451_...  \n",
       "12/19/18  {'DATATAKE_IDENTIFIER': 'GS2A_20181219T113501_...  \n",
       "12/19/18  {'DATATAKE_IDENTIFIER': 'GS2A_20181219T113501_...  "
      ]
     },
     "execution_count": 235,
     "metadata": {},
     "output_type": "execute_result"
    }
   ],
   "source": [
    "df.set_index(\"date\", inplace=True)\n",
    "df.head() # It's ok to visualise the data, but need to find a way to read an image from this formate"
   ]
  },
  {
   "cell_type": "code",
   "execution_count": 205,
   "id": "oriented-monroe",
   "metadata": {},
   "outputs": [
    {
     "data": {
      "text/html": [
       "<img src=\"https://earthengine.googleapis.com/v1alpha/projects/earthengine-legacy/thumbnails/6edbdce7a4703ae6d6cfb3957f691e64-35374c4c083ad0569963bd1143ca0778:getPixels\" width=\"400\"/>"
      ],
      "text/plain": [
       "<IPython.core.display.Image object>"
      ]
     },
     "execution_count": 205,
     "metadata": {},
     "output_type": "execute_result"
    }
   ],
   "source": [
    "url = red_img.getThumbURL({'min': 0, 'max': 2500})\n",
    "disp.Image(url=url, width=400)"
   ]
  },
  {
   "cell_type": "code",
   "execution_count": 206,
   "id": "abroad-supply",
   "metadata": {},
   "outputs": [],
   "source": [
    "ndvi_img = (nir_img.subtract(red_img)).divide(nir_img.add(red_img))"
   ]
  },
  {
   "cell_type": "code",
   "execution_count": 208,
   "id": "simplified-wright",
   "metadata": {},
   "outputs": [
    {
     "data": {
      "text/html": [
       "<div style=\"width:100%;\"><div style=\"position:relative;width:100%;height:0;padding-bottom:60%;\"><span style=\"color:#565656\">Make this Notebook Trusted to load map: File -> Trust Notebook</span><iframe src=\"about:blank\" style=\"position:absolute;width:100%;height:100%;left:0;top:0;border:none !important;\" data-html=%3C%21DOCTYPE%20html%3E%0A%3Chead%3E%20%20%20%20%0A%20%20%20%20%3Cmeta%20http-equiv%3D%22content-type%22%20content%3D%22text/html%3B%20charset%3DUTF-8%22%20/%3E%0A%20%20%20%20%0A%20%20%20%20%20%20%20%20%3Cscript%3E%0A%20%20%20%20%20%20%20%20%20%20%20%20L_NO_TOUCH%20%3D%20false%3B%0A%20%20%20%20%20%20%20%20%20%20%20%20L_DISABLE_3D%20%3D%20false%3B%0A%20%20%20%20%20%20%20%20%3C/script%3E%0A%20%20%20%20%0A%20%20%20%20%3Cstyle%3Ehtml%2C%20body%20%7Bwidth%3A%20100%25%3Bheight%3A%20100%25%3Bmargin%3A%200%3Bpadding%3A%200%3B%7D%3C/style%3E%0A%20%20%20%20%3Cstyle%3E%23map%20%7Bposition%3Aabsolute%3Btop%3A0%3Bbottom%3A0%3Bright%3A0%3Bleft%3A0%3B%7D%3C/style%3E%0A%20%20%20%20%3Cscript%20src%3D%22https%3A//cdn.jsdelivr.net/npm/leaflet%401.6.0/dist/leaflet.js%22%3E%3C/script%3E%0A%20%20%20%20%3Cscript%20src%3D%22https%3A//code.jquery.com/jquery-1.12.4.min.js%22%3E%3C/script%3E%0A%20%20%20%20%3Cscript%20src%3D%22https%3A//maxcdn.bootstrapcdn.com/bootstrap/3.2.0/js/bootstrap.min.js%22%3E%3C/script%3E%0A%20%20%20%20%3Cscript%20src%3D%22https%3A//cdnjs.cloudflare.com/ajax/libs/Leaflet.awesome-markers/2.0.2/leaflet.awesome-markers.js%22%3E%3C/script%3E%0A%20%20%20%20%3Clink%20rel%3D%22stylesheet%22%20href%3D%22https%3A//cdn.jsdelivr.net/npm/leaflet%401.6.0/dist/leaflet.css%22/%3E%0A%20%20%20%20%3Clink%20rel%3D%22stylesheet%22%20href%3D%22https%3A//maxcdn.bootstrapcdn.com/bootstrap/3.2.0/css/bootstrap.min.css%22/%3E%0A%20%20%20%20%3Clink%20rel%3D%22stylesheet%22%20href%3D%22https%3A//maxcdn.bootstrapcdn.com/bootstrap/3.2.0/css/bootstrap-theme.min.css%22/%3E%0A%20%20%20%20%3Clink%20rel%3D%22stylesheet%22%20href%3D%22https%3A//maxcdn.bootstrapcdn.com/font-awesome/4.6.3/css/font-awesome.min.css%22/%3E%0A%20%20%20%20%3Clink%20rel%3D%22stylesheet%22%20href%3D%22https%3A//cdnjs.cloudflare.com/ajax/libs/Leaflet.awesome-markers/2.0.2/leaflet.awesome-markers.css%22/%3E%0A%20%20%20%20%3Clink%20rel%3D%22stylesheet%22%20href%3D%22https%3A//cdn.jsdelivr.net/gh/python-visualization/folium/folium/templates/leaflet.awesome.rotate.min.css%22/%3E%0A%20%20%20%20%0A%20%20%20%20%20%20%20%20%20%20%20%20%3Cmeta%20name%3D%22viewport%22%20content%3D%22width%3Ddevice-width%2C%0A%20%20%20%20%20%20%20%20%20%20%20%20%20%20%20%20initial-scale%3D1.0%2C%20maximum-scale%3D1.0%2C%20user-scalable%3Dno%22%20/%3E%0A%20%20%20%20%20%20%20%20%20%20%20%20%3Cstyle%3E%0A%20%20%20%20%20%20%20%20%20%20%20%20%20%20%20%20%23map_040d94b6cacc4968a33a1568e623b671%20%7B%0A%20%20%20%20%20%20%20%20%20%20%20%20%20%20%20%20%20%20%20%20position%3A%20relative%3B%0A%20%20%20%20%20%20%20%20%20%20%20%20%20%20%20%20%20%20%20%20width%3A%20100.0%25%3B%0A%20%20%20%20%20%20%20%20%20%20%20%20%20%20%20%20%20%20%20%20height%3A%20100.0%25%3B%0A%20%20%20%20%20%20%20%20%20%20%20%20%20%20%20%20%20%20%20%20left%3A%200.0%25%3B%0A%20%20%20%20%20%20%20%20%20%20%20%20%20%20%20%20%20%20%20%20top%3A%200.0%25%3B%0A%20%20%20%20%20%20%20%20%20%20%20%20%20%20%20%20%7D%0A%20%20%20%20%20%20%20%20%20%20%20%20%3C/style%3E%0A%20%20%20%20%20%20%20%20%0A%3C/head%3E%0A%3Cbody%3E%20%20%20%20%0A%20%20%20%20%0A%20%20%20%20%20%20%20%20%20%20%20%20%3Cdiv%20class%3D%22folium-map%22%20id%3D%22map_040d94b6cacc4968a33a1568e623b671%22%20%3E%3C/div%3E%0A%20%20%20%20%20%20%20%20%0A%3C/body%3E%0A%3Cscript%3E%20%20%20%20%0A%20%20%20%20%0A%20%20%20%20%20%20%20%20%20%20%20%20var%20map_040d94b6cacc4968a33a1568e623b671%20%3D%20L.map%28%0A%20%20%20%20%20%20%20%20%20%20%20%20%20%20%20%20%22map_040d94b6cacc4968a33a1568e623b671%22%2C%0A%20%20%20%20%20%20%20%20%20%20%20%20%20%20%20%20%7B%0A%20%20%20%20%20%20%20%20%20%20%20%20%20%20%20%20%20%20%20%20center%3A%20%5B16.02004668235237%2C%20-15.725555419922927%5D%2C%0A%20%20%20%20%20%20%20%20%20%20%20%20%20%20%20%20%20%20%20%20crs%3A%20L.CRS.EPSG3857%2C%0A%20%20%20%20%20%20%20%20%20%20%20%20%20%20%20%20%20%20%20%20zoom%3A%209%2C%0A%20%20%20%20%20%20%20%20%20%20%20%20%20%20%20%20%20%20%20%20zoomControl%3A%20true%2C%0A%20%20%20%20%20%20%20%20%20%20%20%20%20%20%20%20%20%20%20%20preferCanvas%3A%20false%2C%0A%20%20%20%20%20%20%20%20%20%20%20%20%20%20%20%20%7D%0A%20%20%20%20%20%20%20%20%20%20%20%20%29%3B%0A%0A%20%20%20%20%20%20%20%20%20%20%20%20%0A%0A%20%20%20%20%20%20%20%20%0A%20%20%20%20%0A%20%20%20%20%20%20%20%20%20%20%20%20var%20tile_layer_5454855dcd8546bfac94f1741f167f5d%20%3D%20L.tileLayer%28%0A%20%20%20%20%20%20%20%20%20%20%20%20%20%20%20%20%22https%3A//%7Bs%7D.tile.openstreetmap.org/%7Bz%7D/%7Bx%7D/%7By%7D.png%22%2C%0A%20%20%20%20%20%20%20%20%20%20%20%20%20%20%20%20%7B%22attribution%22%3A%20%22Data%20by%20%5Cu0026copy%3B%20%5Cu003ca%20href%3D%5C%22http%3A//openstreetmap.org%5C%22%5Cu003eOpenStreetMap%5Cu003c/a%5Cu003e%2C%20under%20%5Cu003ca%20href%3D%5C%22http%3A//www.openstreetmap.org/copyright%5C%22%5Cu003eODbL%5Cu003c/a%5Cu003e.%22%2C%20%22detectRetina%22%3A%20false%2C%20%22maxNativeZoom%22%3A%2018%2C%20%22maxZoom%22%3A%2018%2C%20%22minZoom%22%3A%200%2C%20%22noWrap%22%3A%20false%2C%20%22opacity%22%3A%201%2C%20%22subdomains%22%3A%20%22abc%22%2C%20%22tms%22%3A%20false%7D%0A%20%20%20%20%20%20%20%20%20%20%20%20%29.addTo%28map_040d94b6cacc4968a33a1568e623b671%29%3B%0A%20%20%20%20%20%20%20%20%0A%20%20%20%20%0A%20%20%20%20%20%20%20%20%20%20%20%20var%20tile_layer_0857d44a5c6b4fe7b6891e1b60dd60a3%20%3D%20L.tileLayer%28%0A%20%20%20%20%20%20%20%20%20%20%20%20%20%20%20%20%22https%3A//earthengine.googleapis.com/v1alpha/projects/earthengine-legacy/maps/cab8819c2df5c5698bec2060e6036ec6-7c2494f1d4b9d93d12123a81e943bd19/tiles/%7Bz%7D/%7Bx%7D/%7By%7D%22%2C%0A%20%20%20%20%20%20%20%20%20%20%20%20%20%20%20%20%7B%22attribution%22%3A%20%22Map%20Data%20%5Cu0026copy%3B%20%5Cu003ca%20href%3D%5C%22https%3A//earthengine.google.com/%5C%22%5Cu003eGoogle%20Earth%20Engine%5Cu003c/a%5Cu003e%22%2C%20%22detectRetina%22%3A%20false%2C%20%22maxNativeZoom%22%3A%2018%2C%20%22maxZoom%22%3A%2018%2C%20%22minZoom%22%3A%200%2C%20%22noWrap%22%3A%20false%2C%20%22opacity%22%3A%201%2C%20%22subdomains%22%3A%20%22abc%22%2C%20%22tms%22%3A%20false%7D%0A%20%20%20%20%20%20%20%20%20%20%20%20%29.addTo%28map_040d94b6cacc4968a33a1568e623b671%29%3B%0A%20%20%20%20%20%20%20%20%0A%20%20%20%20%0A%20%20%20%20%20%20%20%20%20%20%20%20var%20tile_layer_5fd7ed1b345548a89118304fd4431ebe%20%3D%20L.tileLayer%28%0A%20%20%20%20%20%20%20%20%20%20%20%20%20%20%20%20%22https%3A//earthengine.googleapis.com/v1alpha/projects/earthengine-legacy/maps/307a1a3549eace1e7ee3cfbee248cc94-7a7642f49407cf6d59ede0a4fb3a8f52/tiles/%7Bz%7D/%7Bx%7D/%7By%7D%22%2C%0A%20%20%20%20%20%20%20%20%20%20%20%20%20%20%20%20%7B%22attribution%22%3A%20%22Map%20Data%20%5Cu0026copy%3B%20%5Cu003ca%20href%3D%5C%22https%3A//earthengine.google.com/%5C%22%5Cu003eGoogle%20Earth%20Engine%5Cu003c/a%5Cu003e%22%2C%20%22detectRetina%22%3A%20false%2C%20%22maxNativeZoom%22%3A%2018%2C%20%22maxZoom%22%3A%2018%2C%20%22minZoom%22%3A%200%2C%20%22noWrap%22%3A%20false%2C%20%22opacity%22%3A%201%2C%20%22subdomains%22%3A%20%22abc%22%2C%20%22tms%22%3A%20false%7D%0A%20%20%20%20%20%20%20%20%20%20%20%20%29.addTo%28map_040d94b6cacc4968a33a1568e623b671%29%3B%0A%20%20%20%20%20%20%20%20%0A%20%20%20%20%0A%20%20%20%20%20%20%20%20%20%20%20%20var%20tile_layer_7c1f44132a424076b10a1ec8ded15b67%20%3D%20L.tileLayer%28%0A%20%20%20%20%20%20%20%20%20%20%20%20%20%20%20%20%22https%3A//earthengine.googleapis.com/v1alpha/projects/earthengine-legacy/maps/186094842f4e80689e607ab25372a5e3-f0a2452d9bc3f2eb5975bf1da8f247ff/tiles/%7Bz%7D/%7Bx%7D/%7By%7D%22%2C%0A%20%20%20%20%20%20%20%20%20%20%20%20%20%20%20%20%7B%22attribution%22%3A%20%22Map%20Data%20%5Cu0026copy%3B%20%5Cu003ca%20href%3D%5C%22https%3A//earthengine.google.com/%5C%22%5Cu003eGoogle%20Earth%20Engine%5Cu003c/a%5Cu003e%22%2C%20%22detectRetina%22%3A%20false%2C%20%22maxNativeZoom%22%3A%2018%2C%20%22maxZoom%22%3A%2018%2C%20%22minZoom%22%3A%200%2C%20%22noWrap%22%3A%20false%2C%20%22opacity%22%3A%201%2C%20%22subdomains%22%3A%20%22abc%22%2C%20%22tms%22%3A%20false%7D%0A%20%20%20%20%20%20%20%20%20%20%20%20%29.addTo%28map_040d94b6cacc4968a33a1568e623b671%29%3B%0A%20%20%20%20%20%20%20%20%0A%20%20%20%20%0A%20%20%20%20%20%20%20%20%20%20%20%20var%20tile_layer_6462d6beb92643699f7273b4150cd708%20%3D%20L.tileLayer%28%0A%20%20%20%20%20%20%20%20%20%20%20%20%20%20%20%20%22https%3A//earthengine.googleapis.com/v1alpha/projects/earthengine-legacy/maps/18667655dc53b6de684735d1a1199952-9866571309c269d520a391e4b0387f75/tiles/%7Bz%7D/%7Bx%7D/%7By%7D%22%2C%0A%20%20%20%20%20%20%20%20%20%20%20%20%20%20%20%20%7B%22attribution%22%3A%20%22Map%20Data%20%5Cu0026copy%3B%20%5Cu003ca%20href%3D%5C%22https%3A//earthengine.google.com/%5C%22%5Cu003eGoogle%20Earth%20Engine%5Cu003c/a%5Cu003e%22%2C%20%22detectRetina%22%3A%20false%2C%20%22maxNativeZoom%22%3A%2018%2C%20%22maxZoom%22%3A%2018%2C%20%22minZoom%22%3A%200%2C%20%22noWrap%22%3A%20false%2C%20%22opacity%22%3A%201%2C%20%22subdomains%22%3A%20%22abc%22%2C%20%22tms%22%3A%20false%7D%0A%20%20%20%20%20%20%20%20%20%20%20%20%29.addTo%28map_040d94b6cacc4968a33a1568e623b671%29%3B%0A%20%20%20%20%20%20%20%20%0A%20%20%20%20%0A%20%20%20%20%20%20%20%20%20%20%20%20var%20layer_control_f2d1971eb54d4a32bd1c1943c3831ef3%20%3D%20%7B%0A%20%20%20%20%20%20%20%20%20%20%20%20%20%20%20%20base_layers%20%3A%20%7B%0A%20%20%20%20%20%20%20%20%20%20%20%20%20%20%20%20%20%20%20%20%22openstreetmap%22%20%3A%20tile_layer_5454855dcd8546bfac94f1741f167f5d%2C%0A%20%20%20%20%20%20%20%20%20%20%20%20%20%20%20%20%7D%2C%0A%20%20%20%20%20%20%20%20%20%20%20%20%20%20%20%20overlays%20%3A%20%20%7B%0A%20%20%20%20%20%20%20%20%20%20%20%20%20%20%20%20%20%20%20%20%22True%20Colour%20Image%22%20%3A%20tile_layer_0857d44a5c6b4fe7b6891e1b60dd60a3%2C%0A%20%20%20%20%20%20%20%20%20%20%20%20%20%20%20%20%20%20%20%20%22Red%22%20%3A%20tile_layer_5fd7ed1b345548a89118304fd4431ebe%2C%0A%20%20%20%20%20%20%20%20%20%20%20%20%20%20%20%20%20%20%20%20%22NIR%22%20%3A%20tile_layer_7c1f44132a424076b10a1ec8ded15b67%2C%0A%20%20%20%20%20%20%20%20%20%20%20%20%20%20%20%20%20%20%20%20%22NDVI%22%20%3A%20tile_layer_6462d6beb92643699f7273b4150cd708%2C%0A%20%20%20%20%20%20%20%20%20%20%20%20%20%20%20%20%7D%2C%0A%20%20%20%20%20%20%20%20%20%20%20%20%7D%3B%0A%20%20%20%20%20%20%20%20%20%20%20%20L.control.layers%28%0A%20%20%20%20%20%20%20%20%20%20%20%20%20%20%20%20layer_control_f2d1971eb54d4a32bd1c1943c3831ef3.base_layers%2C%0A%20%20%20%20%20%20%20%20%20%20%20%20%20%20%20%20layer_control_f2d1971eb54d4a32bd1c1943c3831ef3.overlays%2C%0A%20%20%20%20%20%20%20%20%20%20%20%20%20%20%20%20%7B%22autoZIndex%22%3A%20true%2C%20%22collapsed%22%3A%20true%2C%20%22position%22%3A%20%22topright%22%7D%0A%20%20%20%20%20%20%20%20%20%20%20%20%29.addTo%28map_040d94b6cacc4968a33a1568e623b671%29%3B%0A%20%20%20%20%20%20%20%20%0A%3C/script%3E onload=\"this.contentDocument.open();this.contentDocument.write(    decodeURIComponent(this.getAttribute('data-html')));this.contentDocument.close();\" allowfullscreen webkitallowfullscreen mozallowfullscreen></iframe></div></div>"
      ],
      "text/plain": [
       "<folium.folium.Map at 0x116c03910>"
      ]
     },
     "metadata": {},
     "output_type": "display_data"
    }
   ],
   "source": [
    "center = AOI.centroid(10).coordinates().reverse().getInfo()\n",
    "m = folium.Map(location=center, zoom_start=9)\n",
    "\n",
    "# Add layers to the map\n",
    "m.add_ee_layer(ee.Image(im_list.get(-1)), {'bands': [\"B4\", \"B3\", \"B2\"], 'min': 0, 'max': 2500}, 'True Colour Image')\n",
    "m.add_ee_layer(red_img, {'min': 0, 'max': 2500}, 'Red')\n",
    "m.add_ee_layer(nir_img, {'min': 0, 'max': 2500}, 'NIR')\n",
    "m.add_ee_layer(ndvi_img, {'min': 0, 'max': 1, 'palette': ['grey','green']}, 'NDVI') \n",
    "# # the vis_param's make a differnece on the percentage of iridiance counts as vegetation so they are quite important\n",
    "# m.add_ee_layer(gndvi_img, {'min': 0, 'max': 0.4, 'palette': ['grey','green']}, 'Green NDVI')\n",
    "# Add a layer control panel to the map.\n",
    "m.add_child(folium.LayerControl())\n",
    "\n",
    "# Display the map.\n",
    "display(m)"
   ]
  },
  {
   "cell_type": "markdown",
   "id": "maritime-princeton",
   "metadata": {},
   "source": [
    "This is very tricky, especially with Sentinel 2.\n",
    "\n",
    "Limitations:\n",
    "* No images on GEE before Dec 2018, and if I tried to get it from the Sentinel API the satellite only started talking pictures in 2015.\n",
    "* I would need a lot of images. Because I am not sure where the Great Green Wall is.\n",
    "* Sentinel 2 needs Cloud Masking on every image.\n",
    "\n",
    "Will go to Sentinel 1."
   ]
  },
  {
   "cell_type": "code",
   "execution_count": null,
   "id": "broadband-error",
   "metadata": {},
   "outputs": [],
   "source": []
  }
 ],
 "metadata": {
  "kernelspec": {
   "display_name": "Python 3",
   "language": "python",
   "name": "python3"
  },
  "language_info": {
   "codemirror_mode": {
    "name": "ipython",
    "version": 3
   },
   "file_extension": ".py",
   "mimetype": "text/x-python",
   "name": "python",
   "nbconvert_exporter": "python",
   "pygments_lexer": "ipython3",
   "version": "3.9.1"
  }
 },
 "nbformat": 4,
 "nbformat_minor": 5
}
